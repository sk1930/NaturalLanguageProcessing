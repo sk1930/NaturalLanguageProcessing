{
 "cells": [
  {
   "cell_type": "markdown",
   "metadata": {},
   "source": [
    "# Stop Words\n",
    "Words like \"a\" and \"the\" appear so frequently that they don't require tagging as thoroughly as nouns, verbs and modifiers. We call these *stop words*, and they can be filtered from the text to be processed. spaCy holds a built-in list of some 305 English stop words."
   ]
  },
  {
   "cell_type": "code",
   "execution_count": 1,
   "metadata": {},
   "outputs": [],
   "source": [
    "# Perform standard imports:\n",
    "import spacy\n",
    "nlp = spacy.load('en_core_web_sm')"
   ]
  },
  {
   "cell_type": "code",
   "execution_count": 2,
   "metadata": {},
   "outputs": [
    {
     "name": "stdout",
     "output_type": "stream",
     "text": [
      "{'keep', 'doing', 'anywhere', 'nine', 'therefore', 'everything', 'eleven', 'various', 'more', 'among', 'on', 'when', 'wherever', 'now', 'most', 'once', 'although', 'six', 'for', 'beforehand', 'mostly', 'twenty', 'see', 'itself', 'n’t', 'will', 'your', 'only', 'so', 'across', 'next', 'above', 'you', 'often', 'without', 'both', 'unless', 'whom', \"'re\", 'i', 'whether', 'together', 'her', 'give', 'neither', 'thru', '‘ll', 'latterly', 'she', 'are', 'hence', 'seem', 'does', 'get', 'already', \"'ve\", 'into', 'whatever', 'our', 'become', 'became', 'latter', 'out', 'never', 'via', 'afterwards', 'would', 'serious', 'full', 'been', 'should', 'yours', 'becoming', 'has', 'anything', 'who', 'two', 're', 'around', 'formerly', 'what', '’re', 'do', 'also', 'any', 'otherwise', 'onto', 'least', 'not', 'ten', 'thereupon', 'regarding', 'quite', 'through', 'sixty', 'this', 'less', 'none', 'anyone', 'sometimes', 'four', 'noone', 'anyway', 'very', 'used', 'those', 'besides', 'of', 'some', 'am', 'with', 'please', 'whenever', 'or', 'five', 'n‘t', 'thereafter', 'how', 'in', 'go', 'whereupon', 'were', 'others', 'against', 'done', 'because', 'hundred', 'seeming', 'up', '‘ve', 'move', 'rather', 'off', 'have', 'else', 'seemed', '‘re', 'him', 'until', 'might', 'myself', 'nor', 'than', 'themselves', 'really', \"n't\", 'sometime', 'but', 'namely', 'ever', 'alone', 'before', 'whereby', 'each', 'them', 'beside', 'again', 'per', 'is', 'top', 'make', 'beyond', 'everywhere', 'hers', 'bottom', 'nowhere', 'us', 'other', 'since', 'even', 'that', 'he', 'by', 'anyhow', 'still', 'thence', 'enough', 'ours', 'after', 'always', 'somewhere', 'between', 'under', 'much', 'whereas', 'why', 'their', 'third', 'few', 'must', 'whoever', 'where', 'somehow', 'everyone', 'whose', 'almost', 'toward', 'except', 'forty', 'behind', 'twelve', 'back', 'towards', 'too', 'herself', 'elsewhere', 'perhaps', 'whence', 'over', 'about', 'ourselves', 'eight', 'here', 'and', 'using', 'an', 'becomes', 'though', 'herein', 'hereby', 'a', 'several', 'the', 'cannot', 'below', 'one', 'fifteen', 'thereby', 'mine', 'therein', 'another', 'his', 'name', 'as', 'empty', 'during', 'seems', 'to', 'had', 'did', 'same', 'there', 'its', 'was', 'be', 'such', 'it', 'something', 'could', '’ll', \"'s\", 'we', '’s', 'ca', 'if', 'put', 'along', \"'d\", 'well', 'every', 'further', 'no', 'take', 'moreover', 'my', 'either', 'last', 'side', 'from', 'whither', 'they', 'three', 'within', 'own', 'meanwhile', 'himself', 'amongst', 'front', 'nobody', '’ve', 'at', 'may', \"'ll\", 'down', 'nothing', 'show', 'yet', 'wherein', 'whereafter', '’d', 'just', 'nevertheless', 'being', 'made', 'someone', 'while', '’m', 'former', 'part', '‘d', 'can', 'say', 'yourselves', 'however', 'indeed', 'hereafter', '‘m', 'yourself', 'then', 'which', 'first', 'all', 'thus', 'hereupon', 'fifty', 'me', \"'m\", 'amount', 'throughout', 'upon', '‘s', 'call', 'whole', 'these', 'many', 'due'}\n"
     ]
    }
   ],
   "source": [
    "# Print the set of spaCy's default stop words (remember that sets are unordered):\n",
    "print(nlp.Defaults.stop_words)"
   ]
  },
  {
   "cell_type": "code",
   "execution_count": 3,
   "metadata": {},
   "outputs": [
    {
     "data": {
      "text/plain": [
       "326"
      ]
     },
     "execution_count": 3,
     "metadata": {},
     "output_type": "execute_result"
    }
   ],
   "source": [
    "len(nlp.Defaults.stop_words)"
   ]
  },
  {
   "cell_type": "markdown",
   "metadata": {},
   "source": [
    "## To see if a word is a stop word"
   ]
  },
  {
   "cell_type": "code",
   "execution_count": 4,
   "metadata": {},
   "outputs": [
    {
     "data": {
      "text/plain": [
       "True"
      ]
     },
     "execution_count": 4,
     "metadata": {},
     "output_type": "execute_result"
    }
   ],
   "source": [
    "nlp.vocab['myself'].is_stop"
   ]
  },
  {
   "cell_type": "code",
   "execution_count": 5,
   "metadata": {},
   "outputs": [
    {
     "data": {
      "text/plain": [
       "False"
      ]
     },
     "execution_count": 5,
     "metadata": {},
     "output_type": "execute_result"
    }
   ],
   "source": [
    "nlp.vocab['mystery'].is_stop"
   ]
  },
  {
   "cell_type": "markdown",
   "metadata": {},
   "source": [
    "## To add a stop word\n",
    "There may be times when you wish to add a stop word to the default set. Perhaps you decide that `'btw'` (common shorthand for \"by the way\") should be considered a stop word."
   ]
  },
  {
   "cell_type": "code",
   "execution_count": 6,
   "metadata": {},
   "outputs": [],
   "source": [
    "# Add the word to the set of stop words. Use lowercase!\n",
    "nlp.Defaults.stop_words.add('btw')\n",
    "\n",
    "# Set the stop_word tag on the lexeme\n",
    "nlp.vocab['btw'].is_stop = True"
   ]
  },
  {
   "cell_type": "code",
   "execution_count": 7,
   "metadata": {},
   "outputs": [
    {
     "data": {
      "text/plain": [
       "327"
      ]
     },
     "execution_count": 7,
     "metadata": {},
     "output_type": "execute_result"
    }
   ],
   "source": [
    "len(nlp.Defaults.stop_words)"
   ]
  },
  {
   "cell_type": "code",
   "execution_count": 8,
   "metadata": {},
   "outputs": [
    {
     "data": {
      "text/plain": [
       "True"
      ]
     },
     "execution_count": 8,
     "metadata": {},
     "output_type": "execute_result"
    }
   ],
   "source": [
    "nlp.vocab['btw'].is_stop"
   ]
  },
  {
   "cell_type": "markdown",
   "metadata": {},
   "source": [
    "<font color=green>When adding stop words, always use lowercase. Lexemes are converted to lowercase before being added to **vocab**.</font>"
   ]
  },
  {
   "cell_type": "markdown",
   "metadata": {},
   "source": [
    "## To remove a stop word\n",
    "Alternatively, you may decide that `'beyond'` should not be considered a stop word."
   ]
  },
  {
   "cell_type": "code",
   "execution_count": 9,
   "metadata": {},
   "outputs": [],
   "source": [
    "# Remove the word from the set of stop words\n",
    "nlp.Defaults.stop_words.remove('beyond')\n",
    "\n",
    "# Remove the stop_word tag from the lexeme\n",
    "nlp.vocab['beyond'].is_stop = False"
   ]
  },
  {
   "cell_type": "code",
   "execution_count": 10,
   "metadata": {},
   "outputs": [
    {
     "data": {
      "text/plain": [
       "326"
      ]
     },
     "execution_count": 10,
     "metadata": {},
     "output_type": "execute_result"
    }
   ],
   "source": [
    "len(nlp.Defaults.stop_words)"
   ]
  },
  {
   "cell_type": "code",
   "execution_count": 11,
   "metadata": {},
   "outputs": [
    {
     "data": {
      "text/plain": [
       "False"
      ]
     },
     "execution_count": 11,
     "metadata": {},
     "output_type": "execute_result"
    }
   ],
   "source": [
    "nlp.vocab['beyond'].is_stop"
   ]
  },
  {
   "cell_type": "code",
   "execution_count": 12,
   "metadata": {},
   "outputs": [
    {
     "data": {
      "text/plain": [
       "False"
      ]
     },
     "execution_count": 12,
     "metadata": {},
     "output_type": "execute_result"
    }
   ],
   "source": [
    "nlp.vocab['Beyond'].is_stop"
   ]
  },
  {
   "cell_type": "markdown",
   "metadata": {},
   "source": [
    "Great! Now you should be able to access spaCy's default set of stop words, and add or remove stop words as needed.\n",
    "## Next up: Vocabulary and Matching"
   ]
  }
 ],
 "metadata": {
  "kernelspec": {
   "display_name": "Python 3 (ipykernel)",
   "language": "python",
   "name": "python3"
  },
  "language_info": {
   "codemirror_mode": {
    "name": "ipython",
    "version": 3
   },
   "file_extension": ".py",
   "mimetype": "text/x-python",
   "name": "python",
   "nbconvert_exporter": "python",
   "pygments_lexer": "ipython3",
   "version": "3.11.4"
  }
 },
 "nbformat": 4,
 "nbformat_minor": 2
}
